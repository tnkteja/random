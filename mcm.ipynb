{
 "cells": [
  {
   "cell_type": "markdown",
   "metadata": {},
   "source": [
    "###  2. Purpose: reinforce your understanding of dynamic programming and the matrix-chain multiplication problem, and practice run time measurements. \n",
    "\n",
    "#### a. (12 points) Please implement a recursive, a dynamic programming, and a memoized version of the algorithm for solving the matrix-chain multiplication problem described in our textbook (Chapter 15), and design suitable inputs for comparing the run times, the number of recursive calls, and the number of scalar multiplications  for both algorithms.\n",
    "\n",
    "#### Describe input data, report, graph and comment your results. \n",
    "\n",
    "#### Please submit your programs in three separate files: yourname_recursive.txt, yourname_dp.txt, and yourname_memoized.txt.\n"
   ]
  },
  {
   "cell_type": "code",
   "execution_count": 2,
   "metadata": {
    "collapsed": false
   },
   "outputs": [
    {
     "name": "stdout",
     "output_type": "stream",
     "text": [
      "[(1, 2)]\n"
     ]
    }
   ],
   "source": [
    "#!/usr/bin/python\n",
    "# coding:utf8\n",
    "\n",
    "import cProfile\n",
    "import matplotlib.pyplot as plt\n",
    "from pprint import pprint\n",
    "from random import shuffle, seed\n",
    "from sys import maxint\n",
    "from time import clock\n",
    "\n",
    "seed(0) # Set the seed for debugging\n",
    "\n",
    "def matrices(N):\n",
    "    a=range(1,N) \n",
    "    shuffle(a)\n",
    "    return map(lambda i:  (a[i],a[i+1]),xrange(N-2))\n",
    "    \n",
    "print matrices(3)"
   ]
  },
  {
   "cell_type": "markdown",
   "metadata": {},
   "source": [
    "##### Recursive version\n",
    "\n",
    "The recursive function would be as follows.\n",
    "\n",
    "We have to minimize the number of multiplications split at K.\n",
    "A1, A2, A3, .... An\n",
    "making it general to compute minimum number of scalar multiplication between i, j\n",
    "A_{i}, A_{i+1}, A_{i+2} ... A_{j}\n",
    "if we split at k, then \n",
    "(A_{i}, A_{i+1}, A_{i+2} ... A_{k}) (A_{k+1}, A_{i+1}, A_{i+2} ... A_{j})\n",
    "minimum # is  min(M(i,k)+M(k+1,j)+d_{im}*d_{in}*d_{jn})\n",
    "\n",
    "```\n",
    "RECURSIVE-MATRIX-CHAIN(p,i,j)\n",
    "1 if i == j\n",
    "2   return 0\n",
    "3 m[i, j]= infinity\n",
    "4 for k = i to j - 1\n",
    "5   q=RECURSIVE-MATRIX-CHAIN(p,i,k)+RECURSIVE-MATRIX-CHAIN(p,k+1,j)+pi-1 * pk*pi\n",
    "6   if q <m[i,j]\n",
    "7     m[i,j]=q\n",
    "8 return m[i,j]\n",
    "```"
   ]
  },
  {
   "cell_type": "code",
   "execution_count": 3,
   "metadata": {
    "collapsed": false
   },
   "outputs": [
    {
     "name": "stdout",
     "output_type": "stream",
     "text": [
      "[(1, 7), (7, 4), (4, 6), (6, 2), (2, 8), (8, 11), (11, 10), (10, 3), (3, 5), (5, 9)]\n",
      "368\n"
     ]
    }
   ],
   "source": [
    "def rcm(a,i,j):\n",
    "    \"\"\"\n",
    "    Basic Operations: scalar multiplications and scalar addition. But we can take scalar multiplications for analysis as it\n",
    "    gives same insight as with the scalar additions analysis.\n",
    "    Complexity : grows exponentialy 2^{n-1}\n",
    "    \"\"\"\n",
    "    if i==j:  return 0\n",
    "    return min(map(lambda k:  rcm(a,i,k)+rcm(a,k+1,j)+a[i][0]*a[k][1]*a[j][1],xrange(i,j)))\n",
    "\n",
    "n=10\n",
    "m=matrices(n+2)\n",
    "print m\n",
    "\n",
    "print rcm(m,0,n-1)\n"
   ]
  },
  {
   "cell_type": "markdown",
   "metadata": {},
   "source": [
    "##### Dynamic Programming Version\n",
    "\n",
    "\n",
    "```\n",
    "MATRIX-CHAIN-ORDER(p)\n",
    "1 n = p.length - 1\n",
    "2 let m[1..n,1..n] and s[1..n,2..n] be new tables\n",
    "3 for i = 1 to n\n",
    "4   m[i, i] = 0\n",
    "5 for l = 2 to n    // l is the chain length\n",
    "6   for i = 1 to n - l + 1\n",
    "7     j = i + l - 1\n",
    "8     m[i, j] = infinity\n",
    "9     for k = i to j - 1\n",
    "10      q = m[i, k]+ m[k+1,j] + pi-1*pk*pj\n",
    "11      if q <m[i,j]\n",
    "12        m[i, j] = q\n",
    "13        s[i, j] = k\n",
    "14 return m and s\n",
    "```"
   ]
  },
  {
   "cell_type": "code",
   "execution_count": 4,
   "metadata": {
    "collapsed": false
   },
   "outputs": [
    {
     "name": "stdout",
     "output_type": "stream",
     "text": [
      "[(1, 7), (7, 4), (4, 6), (6, 2), (2, 8), (8, 11), (11, 10), (10, 3), (3, 5), (5, 9)]\n",
      "734\n"
     ]
    }
   ],
   "source": [
    "def mco(a):\n",
    "    n=len(a)\n",
    "    m=map(lambda i: map(lambda j:  0 if i==j else maxint,xrange(n)),xrange(n))\n",
    "    s=map(lambda i: map(lambda j:  maxint,xrange(n)),xrange(n))\n",
    "    for l in xrange(1,n):\n",
    "        for i in xrange(0,n-l):\n",
    "            j=i+l\n",
    "            m[i][j],s[i][j]=min(map(lambda k:  (m[i][k]+m[k+1][j]+a[i][0]*a[k][1]*a[j][1],k),xrange(i,j)), key=lambda x:  x[0])\n",
    "    return m,s\n",
    "            \n",
    "\n",
    "print m\n",
    "m=[(5, 2), (2, 4), (4, 7), (7, 3), (3, 9), (9, 7), (7, 8), (8, 6), (6, 3), (3, 7), (7, 5), (5, 5)]\n",
    "pprint(mco(m)[0][0][11])\n",
    "        \n",
    "    "
   ]
  },
  {
   "cell_type": "markdown",
   "metadata": {},
   "source": [
    "##### Memoized Version\n",
    "\n",
    "```\n",
    "MEMOIZED-MATRIX-CHAIN(p)\n",
    "1 n = p.length-1\n",
    "2 let m[1..n,1..n] be a new table\n",
    "3 for i = 1 to n\n",
    "4   for j = i to n\n",
    "5     m[i, j] = infinity\n",
    "6 return LOOKUP-CHAIN(m, p, 1, n)\n",
    "```\n",
    "\n",
    "```\n",
    "LOOKUP-CHAIN(m, p, i, j)\n",
    "1 if m[i,j] < infinity\n",
    "2   return m[i, j]\n",
    "3 if i == j\n",
    "4   return m[i, j]= 0\n",
    "5 else for k = i to j - 1\n",
    "6   q = LOOKUP-CHAIN(m, p, i, k)+LOOKUP-CHAIN(m, p, k + 1, j)+pi-1*pk*pj\n",
    "7   if q < m[i,j]\n",
    "8     m[i,j]=q\n",
    "```"
   ]
  },
  {
   "cell_type": "code",
   "execution_count": 5,
   "metadata": {
    "collapsed": false
   },
   "outputs": [
    {
     "name": "stdout",
     "output_type": "stream",
     "text": [
      "734\n"
     ]
    }
   ],
   "source": [
    "def mmc(a):\n",
    "    n=len(a)\n",
    "    m=map(lambda x: map(lambda x:  maxint,xrange(n)),xrange(n))\n",
    "    return lc(m,a,0,len(a)-1)\n",
    "    \n",
    "def lc(m,a,i,j):\n",
    "    if m[i][j]<maxint:  return m[i][j]\n",
    "    elif i==j:  m[i][j]=0\n",
    "    else:  m[i][j]=min(map(lambda k:  lc(m,a,i,k)+lc(m,a,k+1,j)+a[i][0]*a[k][1]*a[j][1],xrange(i,j)))\n",
    "    return m[i][j]\n",
    "    \n",
    "        \n",
    "print mmc(m)"
   ]
  },
  {
   "cell_type": "markdown",
   "metadata": {
    "collapsed": true
   },
   "source": [
    "###### Running time analysis\n",
    "\n",
    "Theory says that there is accuracy and precison.  _accuracy_ is how close we are to the truth and _precision_ is how the variance of the given measure on various runs.  In the analysis of algorithms, we have accuracy measured in terms of the ccomplexity of the dominant operation in an algorithm. While to be precise we might need to express the complexity as a measure on some quantity such as CPU time. While CPU time seems a good measure, but it does not give _universality_, in that it means various platforms can give various CPU times and might even show different rates which varying input instance sizes. For example consider the following figure, which is an excerpt taken from the reading given in the class.\n",
    "\n",
    "![picture](http://127.0.0.1:8080/random/cputimes.png)\n",
    "\n",
    "\n",
    "Now to perform the analysis for the current algorithms we can add counters to the code, to count the dominant operations count.\n",
    "\n",
    "For us the dominant operation is **scalar multiplications**.  Lets first consider ths RECURSIVE-MATRIX-MULTIPLICATION.\n",
    "\n",
    "for counting the number of recursive calls we need a counter. say **rcc**. And for counting the scalar multiplictions we can\n",
    "use **smc**.\n",
    "\n",
    "\n",
    "\n"
   ]
  },
  {
   "cell_type": "code",
   "execution_count": 6,
   "metadata": {
    "collapsed": false
   },
   "outputs": [
    {
     "name": "stdout",
     "output_type": "stream",
     "text": [
      "[(9, 1), (1, 10), (10, 4), (4, 8), (8, 11), (11, 2), (2, 5), (5, 7), (7, 3), (3, 6)]\n",
      "0 0\n",
      "320\n",
      "19683 1985082\n"
     ]
    }
   ],
   "source": [
    "rcc=0 # recursive calls counter\n",
    "smc=0 # dominant operations counter\n",
    "def rcm_(a,i,j):\n",
    "    global rcc,smc\n",
    "    rcc+=1  # increment recursive calls counter\n",
    "    if i==j:\n",
    "        return 0\n",
    "    mi=[]\n",
    "    for k in xrange(i,j):\n",
    "        sm=a[i][0]*a[k][1]*a[j][1]\n",
    "        smc+=sm # update the dominant calls counter\n",
    "        mi.append(rcm_(a,i,k)+rcm_(a,k+1,j)+sm)\n",
    "    return min(mi)\n",
    "\n",
    "\n",
    "n=10\n",
    "m=matrices(n+2)\n",
    "print m\n",
    "print rcc,smc\n",
    "rcmp=cProfile.Profile()\n",
    "rcmp.enable()\n",
    "print rcm_(m,0,len(m)-1)\n",
    "rcmp.disable()\n",
    "#rcmp.print_stats(sort=\"ncalls\")\n",
    "\n",
    "print rcc,smc"
   ]
  },
  {
   "cell_type": "markdown",
   "metadata": {
    "collapsed": true
   },
   "source": [
    "Now lets perform same kind of analysis for the MATRIX_CHAIN_ORDER."
   ]
  },
  {
   "cell_type": "code",
   "execution_count": 7,
   "metadata": {
    "collapsed": false
   },
   "outputs": [
    {
     "name": "stdout",
     "output_type": "stream",
     "text": [
      "[(2, 10), (10, 6), (6, 5), (5, 8), (8, 3), (3, 1), (1, 4), (4, 7), (7, 11), (11, 9)]\n",
      "0 0\n",
      "([[0, 120, 180, 260, 308, 174, 182, 216, 301, 396], [2147483647, 0, 300, 700, 390, 154, 194, 252, 369, 448], [2147483647, 2147483647, 0, 240, 210, 94, 118, 164, 265, 352], [2147483647, 2147483647, 2147483647, 0, 120, 64, 84, 127, 224, 313], [2147483647, 2147483647, 2147483647, 2147483647, 0, 24, 56, 108, 217, 300], [2147483647, 2147483647, 2147483647, 2147483647, 2147483647, 0, 12, 49, 138, 231], [2147483647, 2147483647, 2147483647, 2147483647, 2147483647, 2147483647, 0, 28, 105, 204], [2147483647, 2147483647, 2147483647, 2147483647, 2147483647, 2147483647, 2147483647, 0, 308, 704], [2147483647, 2147483647, 2147483647, 2147483647, 2147483647, 2147483647, 2147483647, 2147483647, 0, 693], [2147483647, 2147483647, 2147483647, 2147483647, 2147483647, 2147483647, 2147483647, 2147483647, 2147483647, 0]], [[2147483647, 0, 1, 2, 3, 0, 5, 5, 5, 5], [2147483647, 2147483647, 1, 2, 1, 1, 5, 5, 5, 5], [2147483647, 2147483647, 2147483647, 2, 2, 2, 5, 5, 5, 5], [2147483647, 2147483647, 2147483647, 2147483647, 3, 3, 5, 5, 5, 5], [2147483647, 2147483647, 2147483647, 2147483647, 2147483647, 4, 5, 5, 5, 5], [2147483647, 2147483647, 2147483647, 2147483647, 2147483647, 2147483647, 5, 5, 5, 5], [2147483647, 2147483647, 2147483647, 2147483647, 2147483647, 2147483647, 2147483647, 6, 7, 8], [2147483647, 2147483647, 2147483647, 2147483647, 2147483647, 2147483647, 2147483647, 2147483647, 7, 8], [2147483647, 2147483647, 2147483647, 2147483647, 2147483647, 2147483647, 2147483647, 2147483647, 2147483647, 8], [2147483647, 2147483647, 2147483647, 2147483647, 2147483647, 2147483647, 2147483647, 2147483647, 2147483647, 2147483647]])\n",
      "1 32670\n"
     ]
    }
   ],
   "source": [
    "rcc=0\n",
    "smc=0\n",
    "def mco_(a):\n",
    "    global rcc,smc\n",
    "    rcc+=1\n",
    "    n=len(a)\n",
    "    m=map(lambda i: map(lambda j:  0 if i==j else maxint,xrange(n)),xrange(n))\n",
    "    s=map(lambda i: map(lambda j:  maxint,xrange(n)),xrange(n))\n",
    "    for l in xrange(1,n):\n",
    "        for i in xrange(0,n-l):\n",
    "            j=i+l\n",
    "            mi=[]\n",
    "            for k in xrange(i,j):\n",
    "                sm=a[i][0]*a[k][1]*a[j][1]\n",
    "                smc+=sm # update the dominant calls counter\n",
    "                mi.append((m[i][k]+m[k+1][j]+sm,k))\n",
    "            m[i][j],s[i][j]=min(mi, key=lambda x:  x[0])\n",
    "    return m,s\n",
    "            \n",
    "\n",
    "n=10\n",
    "m=matrices(n+2)\n",
    "print m\n",
    "print rcc,smc\n",
    "rcmp=cProfile.Profile()\n",
    "rcmp.enable()\n",
    "print mco_(m)\n",
    "rcmp.disable()\n",
    "#rcmp.print_stats(sort=\"ncalls\")\n",
    "\n",
    "print rcc,smc"
   ]
  },
  {
   "cell_type": "markdown",
   "metadata": {},
   "source": [
    "Repeating same kind of analysis for  MEMOIZED_MATRIX_CHAIN "
   ]
  },
  {
   "cell_type": "code",
   "execution_count": 8,
   "metadata": {
    "collapsed": false
   },
   "outputs": [
    {
     "name": "stdout",
     "output_type": "stream",
     "text": [
      "[(6, 7), (7, 11), (11, 4), (4, 2), (2, 9), (9, 1), (1, 5), (5, 8), (8, 3), (3, 10)]\n",
      "0 0\n",
      "343\n",
      "331 32670\n"
     ]
    }
   ],
   "source": [
    "rcc=0\n",
    "smc=0\n",
    "def mmc_(a):\n",
    "    n=len(a)\n",
    "    m=map(lambda x: map(lambda x:  maxint,xrange(n)),xrange(n))\n",
    "    return lc_(m,a,0,len(a)-1)\n",
    "    \n",
    "def lc_(m,a,i,j):\n",
    "    global rcc,smc\n",
    "    rcc+=1\n",
    "    if m[i][j]<maxint:  return m[i][j]\n",
    "    elif i==j:  m[i][j]=0\n",
    "    else:\n",
    "        mi=[]\n",
    "        for k in xrange(i,j):\n",
    "            sm=a[i][0]*a[k][1]*a[j][1]\n",
    "            global smc\n",
    "            smc+=sm # update the dominant calls counter\n",
    "            mi.append(lc_(m,a,i,k)+lc_(m,a,k+1,j)+sm)\n",
    "        m[i][j]=min(mi)\n",
    "    return m[i][j]\n",
    "    \n",
    "        \n",
    "n=10\n",
    "m=matrices(n+2)\n",
    "print m\n",
    "print rcc,smc\n",
    "rcmp=cProfile.Profile()\n",
    "rcmp.enable()\n",
    "print mmc_(m)\n",
    "rcmp.disable()\n",
    "#rcmp.print_stats(sort=\"ncalls\")\n",
    "\n",
    "print rcc,smc"
   ]
  },
  {
   "cell_type": "markdown",
   "metadata": {},
   "source": [
    "Now we will run the same experiments for various instances and generate plots out of the results."
   ]
  },
  {
   "cell_type": "code",
   "execution_count": 9,
   "metadata": {
    "collapsed": false
   },
   "outputs": [
    {
     "name": "stdout",
     "output_type": "stream",
     "text": [
      "{<function rcm_ at 0x073868F0>: {'args': <function <lambda> at 0x07386970>,\n",
      "                                 'iiss': [2,\n",
      "                                          3,\n",
      "                                          4,\n",
      "                                          5,\n",
      "                                          6,\n",
      "                                          7,\n",
      "                                          8,\n",
      "                                          9,\n",
      "                                          10,\n",
      "                                          11,\n",
      "                                          12,\n",
      "                                          13,\n",
      "                                          14,\n",
      "                                          15,\n",
      "                                          16,\n",
      "                                          17],\n",
      "                                 'label': 'RECURSIVE_MATRIX_CHAIN',\n",
      "                                 'measures': {'rcc': [3,\n",
      "                                                      9,\n",
      "                                                      27,\n",
      "                                                      81,\n",
      "                                                      243,\n",
      "                                                      729,\n",
      "                                                      2187,\n",
      "                                                      6561,\n",
      "                                                      19683,\n",
      "                                                      59049,\n",
      "                                                      177147,\n",
      "                                                      531441,\n",
      "                                                      1594323,\n",
      "                                                      4782969,\n",
      "                                                      14348907,\n",
      "                                                      43046721],\n",
      "                                              'rt': [2.1504005505025407e-05,\n",
      "                                                     4.531201159987497e-05,\n",
      "                                                     9.67680247726143e-05,\n",
      "                                                     0.00026956806900942554,\n",
      "                                                     0.0008524802182349363,\n",
      "                                                     0.0023815686096815636,\n",
      "                                                     0.007142401828454867,\n",
      "                                                     0.021257477441914228,\n",
      "                                                     0.06470248056383501,\n",
      "                                                     0.19618488222332983,\n",
      "                                                     0.5762796995276032,\n",
      "                                                     1.7295602507674244,\n",
      "                                                     5.08127285280585,\n",
      "                                                     14.319660881833187,\n",
      "                                                     44.206707252917056,\n",
      "                                                     147.17719991736317],\n",
      "                                              'smc': [6,\n",
      "                                                      50,\n",
      "                                                      310,\n",
      "                                                      1150,\n",
      "                                                      5162,\n",
      "                                                      20674,\n",
      "                                                      144922,\n",
      "                                                      640201,\n",
      "                                                      2006502,\n",
      "                                                      4303850,\n",
      "                                                      15152084,\n",
      "                                                      116402970,\n",
      "                                                      536317976,\n",
      "                                                      1508321456,\n",
      "                                                      3073068337L,\n",
      "                                                      25089515907L]},\n",
      "                                 'result': <function <lambda> at 0x07386DF0>,\n",
      "                                 'results': [6,\n",
      "                                             14,\n",
      "                                             33,\n",
      "                                             65,\n",
      "                                             99,\n",
      "                                             133,\n",
      "                                             200,\n",
      "                                             330,\n",
      "                                             391,\n",
      "                                             485,\n",
      "                                             567,\n",
      "                                             684,\n",
      "                                             898,\n",
      "                                             1127,\n",
      "                                             1228,\n",
      "                                             1706]},\n",
      " <function mco_ at 0x07386D30>: {'args': <function <lambda> at 0x07386CB0>,\n",
      "                                 'iiss': [2,\n",
      "                                          3,\n",
      "                                          4,\n",
      "                                          5,\n",
      "                                          6,\n",
      "                                          7,\n",
      "                                          8,\n",
      "                                          9,\n",
      "                                          10,\n",
      "                                          11,\n",
      "                                          12,\n",
      "                                          13,\n",
      "                                          14,\n",
      "                                          15,\n",
      "                                          16,\n",
      "                                          17],\n",
      "                                 'label': 'MATRIX_CHAIN_ORDER',\n",
      "                                 'measures': {'rcc': [1,\n",
      "                                                      1,\n",
      "                                                      1,\n",
      "                                                      1,\n",
      "                                                      1,\n",
      "                                                      1,\n",
      "                                                      1,\n",
      "                                                      1,\n",
      "                                                      1,\n",
      "                                                      1,\n",
      "                                                      1,\n",
      "                                                      1,\n",
      "                                                      1,\n",
      "                                                      1,\n",
      "                                                      1,\n",
      "                                                      1],\n",
      "                                              'rt': [0.00010137602595226265,\n",
      "                                                     0.0001297920332267605,\n",
      "                                                     0.00016896004325377102,\n",
      "                                                     0.0002457600629145759,\n",
      "                                                     0.00036633609378203995,\n",
      "                                                     0.0005061121295647049,\n",
      "                                                     0.0007019521796997582,\n",
      "                                                     0.0009200642355364445,\n",
      "                                                     0.0011627522976645904,\n",
      "                                                     0.0015098883865314328,\n",
      "                                                     0.0018055684622255153,\n",
      "                                                     0.0021742085565974456,\n",
      "                                                     0.002269440580976667,\n",
      "                                                     0.002709504693632958,\n",
      "                                                     0.0032002568192659453,\n",
      "                                                     0.003932161006630963],\n",
      "                                              'smc': [6,\n",
      "                                                      50,\n",
      "                                                      225,\n",
      "                                                      735,\n",
      "                                                      1960,\n",
      "                                                      4536,\n",
      "                                                      9450,\n",
      "                                                      18150,\n",
      "                                                      32670,\n",
      "                                                      55770,\n",
      "                                                      91091,\n",
      "                                                      143325,\n",
      "                                                      218400,\n",
      "                                                      323680,\n",
      "                                                      468180,\n",
      "                                                      662796]},\n",
      "                                 'result': <function <lambda> at 0x07386A70>,\n",
      "                                 'results': [6,\n",
      "                                             14,\n",
      "                                             33,\n",
      "                                             65,\n",
      "                                             99,\n",
      "                                             133,\n",
      "                                             200,\n",
      "                                             330,\n",
      "                                             391,\n",
      "                                             485,\n",
      "                                             567,\n",
      "                                             684,\n",
      "                                             898,\n",
      "                                             1127,\n",
      "                                             1228,\n",
      "                                             1706]},\n",
      " <function mmc_ at 0x07386EF0>: {'args': <function <lambda> at 0x07386A30>,\n",
      "                                 'iiss': [2,\n",
      "                                          3,\n",
      "                                          4,\n",
      "                                          5,\n",
      "                                          6,\n",
      "                                          7,\n",
      "                                          8,\n",
      "                                          9,\n",
      "                                          10,\n",
      "                                          11,\n",
      "                                          12,\n",
      "                                          13,\n",
      "                                          14,\n",
      "                                          15,\n",
      "                                          16,\n",
      "                                          17],\n",
      "                                 'label': 'MEMOIZED_MATRIX_CHAIN',\n",
      "                                 'measures': {'rcc': [3,\n",
      "                                                      9,\n",
      "                                                      21,\n",
      "                                                      41,\n",
      "                                                      71,\n",
      "                                                      113,\n",
      "                                                      169,\n",
      "                                                      241,\n",
      "                                                      331,\n",
      "                                                      441,\n",
      "                                                      573,\n",
      "                                                      729,\n",
      "                                                      911,\n",
      "                                                      1121,\n",
      "                                                      1361,\n",
      "                                                      1633],\n",
      "                                              'rt': [4.2240010813442754e-05,\n",
      "                                                     0.00015129603873178594,\n",
      "                                                     0.00012211203126067998,\n",
      "                                                     0.00020044805131470096,\n",
      "                                                     0.00030796807883982794,\n",
      "                                                     0.00044544011403266966,\n",
      "                                                     0.0006458881653473711,\n",
      "                                                     0.00155904039911434,\n",
      "                                                     0.001128960289013839,\n",
      "                                                     0.0015306243918398466,\n",
      "                                                     0.001870080478740599,\n",
      "                                                     0.002297088588054663,\n",
      "                                                     0.002425344620888392,\n",
      "                                                     0.002933760751042236,\n",
      "                                                     0.0035266569028244987,\n",
      "                                                     0.004522753157829129],\n",
      "                                              'smc': [6,\n",
      "                                                      50,\n",
      "                                                      225,\n",
      "                                                      735,\n",
      "                                                      1960,\n",
      "                                                      4536,\n",
      "                                                      9450,\n",
      "                                                      18150,\n",
      "                                                      32670,\n",
      "                                                      55770,\n",
      "                                                      91091,\n",
      "                                                      143325,\n",
      "                                                      218400,\n",
      "                                                      323680,\n",
      "                                                      468180,\n",
      "                                                      662796]},\n",
      "                                 'result': <function <lambda> at 0x07386EB0>,\n",
      "                                 'results': [6,\n",
      "                                             14,\n",
      "                                             33,\n",
      "                                             65,\n",
      "                                             99,\n",
      "                                             133,\n",
      "                                             200,\n",
      "                                             330,\n",
      "                                             391,\n",
      "                                             485,\n",
      "                                             567,\n",
      "                                             684,\n",
      "                                             898,\n",
      "                                             1127,\n",
      "                                             1228,\n",
      "                                             1706]}}\n"
     ]
    }
   ],
   "source": [
    "avs={\n",
    "    rcm_:{ \"label\":\"RECURSIVE_MATRIX_CHAIN\",\"args\": lambda m:  (m,0,len(m)-1),\"result\":lambda x: x, \"results\":[], \"iiss\":[],\"measures\": {\"rcc\":[], \"smc\": [], \"rt\": []}},\n",
    "    mco_:{ \"label\":\"MATRIX_CHAIN_ORDER\",\"args\": lambda m:  (m,),\"result\":lambda x: x[0][0][-1], \"results\":[], \"iiss\":[],\"measures\": {  \"rcc\":[],\"smc\": [], \"rt\": []}},\n",
    "    mmc_:{ \"label\":\"MEMOIZED_MATRIX_CHAIN\",\"args\": lambda m:  (m,),\"result\":lambda x: x,\"results\":[], \"iiss\":[], \"measures\": {  \"rcc\":[], \"smc\": [], \"rt\": []}}\n",
    "}\n",
    "\n",
    "for n in xrange(4,20):\n",
    "    m=matrices(n)\n",
    "    for av in avs:\n",
    "        rcc=0\n",
    "        smc=0\n",
    "        avs[av][\"iiss\"].append(n-2)\n",
    "        start=clock()\n",
    "        result=av(*avs[av][\"args\"](m))\n",
    "        end=clock()\n",
    "        avs[av][\"results\"].append(avs[av][\"result\"](result))\n",
    "        avs[av][\"measures\"][\"rcc\"].append(rcc)\n",
    "        avs[av][\"measures\"][\"smc\"].append(smc)\n",
    "        avs[av][\"measures\"][\"rt\"].append(end-start)\n",
    "\n",
    "pprint(avs)"
   ]
  },
  {
   "cell_type": "code",
   "execution_count": 10,
   "metadata": {
    "collapsed": false
   },
   "outputs": [
    {
     "name": "stdout",
     "output_type": "stream",
     "text": [
      "[<matplotlib.lines.Line2D object at 0x074B88B0>, <matplotlib.lines.Line2D object at 0x01B61F10>, <matplotlib.lines.Line2D object at 0x074B8FF0>]\n",
      "[<matplotlib.lines.Line2D object at 0x074EFE90>, <matplotlib.lines.Line2D object at 0x07520DB0>, <matplotlib.lines.Line2D object at 0x07520DF0>]\n",
      "[<matplotlib.lines.Line2D object at 0x074FA650>, <matplotlib.lines.Line2D object at 0x075CEA50>, <matplotlib.lines.Line2D object at 0x075CEDD0>]\n"
     ]
    },
    {
     "data": {
      "image/png": "[encoded data removed]",
      "text/plain": [
       "<matplotlib.figure.Figure at 0x739c370>"
      ]
     },
     "metadata": {},
     "output_type": "display_data"
    },
    {
     "data": {
      "image/png": "[encoded data removed]",
      "text/plain": [
       "<matplotlib.figure.Figure at 0x74e24d0>"
      ]
     },
     "metadata": {},
     "output_type": "display_data"
    },
    {
     "data": {
      "image/png": "[encoded data removed]",
      "text/plain": [
       "<matplotlib.figure.Figure at 0x7548870>"
      ]
     },
     "metadata": {},
     "output_type": "display_data"
    }
   ],
   "source": [
    "measures= [\"rcc\",\"smc\",\"rt\"]\n",
    "titles=[\"Recursive Calls\",\"Scalar Multiplications\",\"Running Time\"]\n",
    "ylabels=[\"Number of recursive calls on log scale ->\", \"Number of Scalar Multiplications on log scale ->\",\"Amount of running time log scale ->\"]\n",
    "spn=len(measures)*10+1\n",
    "colors=\"rbg\"\n",
    "symbols=[\"--\",\"s\",'^']\n",
    "an=[\"\",\"MEMOIZED_MATRIX_CHAIN\",\"\"]\n",
    "for i,measure in enumerate(measures):\n",
    "    handles=[]\n",
    "    plt.figure(i+1)\n",
    "    plt.title(titles[i])\n",
    "    plt.xlabel(\"Size of input instance ->\")\n",
    "    plt.ylabel(ylabels[i])\n",
    "    plt.yscale(\"log\")\n",
    "    for j,av in enumerate(avs):\n",
    "        handles.append(plt.plot(avs[av][\"iiss\"],avs[av][\"measures\"][measure],colors[j]+symbols[j], label=avs[av][\"label\"])[0])\n",
    "    print handles\n",
    "    plt.legend(handles=handles)\n",
    "plt.show()"
   ]
  },
  {
   "cell_type": "markdown",
   "metadata": {
    "collapsed": true
   },
   "source": []
  },
  {
   "cell_type": "code",
   "execution_count": null,
   "metadata": {
    "collapsed": true
   },
   "outputs": [],
   "source": []
  }
 ],
 "metadata": {
  "kernelspec": {
   "display_name": "Python 2",
   "language": "python",
   "name": "python2"
  },
  "language_info": {
   "codemirror_mode": {
    "name": "ipython",
    "version": 2
   },
   "file_extension": ".py",
   "mimetype": "text/x-python",
   "name": "python",
   "nbconvert_exporter": "python",
   "pygments_lexer": "ipython2",
   "version": "2.7.11"
  }
 },
 "nbformat": 4,
 "nbformat_minor": 1
}
