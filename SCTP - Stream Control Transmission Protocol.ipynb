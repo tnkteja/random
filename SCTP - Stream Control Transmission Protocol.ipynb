{
 "cells": [
  {
   "cell_type": "markdown",
   "metadata": {},
   "source": [
    "According to wikipedia SCTP is transport layer protocol offering some of the same service features of both TCP and UDP. In that\n",
    "\n",
    "* **Messsage oriented protocol like UDP.**\n",
    "  * in SCTP they are called chunks\n",
    "* **Offers in-order delivery**\n",
    "  * chunks are numbers as TSN.\n",
    "  * streams are numbered SI\n",
    "* **Offers reliablilty**\n",
    "* **congestion control**\n",
    "\n",
    "Other features\n",
    "* **multi-homing**\n",
    "  *  \n",
    "* **redundant paths**\n",
    "  * Using multiple Stream \n",
    "* **cookies for security**\n",
    "\n",
    "We can tunnel SCTP over UDP in the absence of SCTP.\n",
    "\n",
    "Like a TCP connection we have an association in SCTP that which involves multiple streams,  i.e to support multi-homing.\n"
   ]
  },
  {
   "cell_type": "raw",
   "metadata": {},
   "source": [
    "```\n",
    "\\emph{hello}"
   ]
  },
  {
   "cell_type": "markdown",
   "metadata": {},
   "source": []
  },
  {
   "cell_type": "code",
   "execution_count": null,
   "metadata": {
    "collapsed": true
   },
   "outputs": [],
   "source": []
  }
 ],
 "metadata": {
  "kernelspec": {
   "display_name": "Python 2",
   "language": "python",
   "name": "python2"
  },
  "language_info": {
   "codemirror_mode": {
    "name": "ipython",
    "version": 2
   },
   "file_extension": ".py",
   "mimetype": "text/x-python",
   "name": "python",
   "nbconvert_exporter": "python",
   "pygments_lexer": "ipython2",
   "version": "2.7.11"
  }
 },
 "nbformat": 4,
 "nbformat_minor": 1
}
